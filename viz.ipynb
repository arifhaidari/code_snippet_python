{
 "cells": [
  {
   "cell_type": "markdown",
   "metadata": {},
   "source": [
    "### Visualization"
   ]
  },
  {
   "cell_type": "markdown",
   "metadata": {},
   "source": [
    "plotting the distribution of a feature in three form along with some statistical features to analyze"
   ]
  },
  {
   "cell_type": "code",
   "execution_count": null,
   "metadata": {},
   "outputs": [],
   "source": [
    "def three_chart_plot(df, feature):\n",
    "    fig = plt.figure(constrained_layout = True, figsize = (12, 8))\n",
    "    grid = gridspec.GridSpec(ncols = 3, nrows = 3, figure = fig)\n",
    "    \n",
    "    ax1 = fig.add_subplot(grid[0, :2])\n",
    "    ax1.set_title('Histogram')\n",
    "    \n",
    "    sns.distplot(df.loc[:, feature], norm_hist = True, ax = ax1)\n",
    "    plt.axvline(x = df[feature].mean(), c = 'red')\n",
    "    plt.axvline(x = df[feature].median(), c = 'green')\n",
    "    \n",
    "    ax2 = fig.add_subplot(grid[1, :2])\n",
    "    ax2.set_title('QQ_plot')\n",
    "    stats.probplot(df.loc[:,feature], plot = ax2)\n",
    "\n",
    "    ## Customizing the Box Plot. \n",
    "    ax3 = fig.add_subplot(grid[:, 2])\n",
    "    ## Set title. \n",
    "    ax3.set_title('Box Plot')\n",
    "    sns.boxplot(df.loc[:,feature], orient = 'v', ax = ax3 )\n",
    "    \n",
    "three_chart_plot(df, 'SalePrice')"
   ]
  },
  {
   "cell_type": "code",
   "execution_count": null,
   "metadata": {},
   "outputs": [],
   "source": [
    "from scipy.stats import skew\n",
    "print(\"Skewness of the SalesPrice is\", df['SalePrice'].skew())"
   ]
  }
 ],
 "metadata": {
  "kernelspec": {
   "display_name": "env_ai",
   "language": "python",
   "name": "python3"
  },
  "language_info": {
   "name": "python",
   "version": "3.10.14"
  },
  "orig_nbformat": 4
 },
 "nbformat": 4,
 "nbformat_minor": 2
}
